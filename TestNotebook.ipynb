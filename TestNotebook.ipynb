{
 "cells": [
  {
   "cell_type": "code",
   "execution_count": 1,
   "metadata": {},
   "outputs": [
    {
     "name": "stderr",
     "output_type": "stream",
     "text": [
      "Error processing line 7 of C:\\Users\\sachj\\Anaconda3\\lib\\site-packages\\pywin32.pth:\n",
      "\n",
      "  Traceback (most recent call last):\n",
      "    File \"C:\\Users\\sachj\\Anaconda3\\lib\\site.py\", line 168, in addpackage\n",
      "      exec(line)\n",
      "    File \"<string>\", line 1, in <module>\n",
      "  ModuleNotFoundError: No module named 'pywin32_bootstrap'\n",
      "\n",
      "Remainder of file ignored\n",
      "Error processing line 7 of C:\\Users\\sachj\\Anaconda3\\lib\\site-packages\\pywin32.pth:\n",
      "\n",
      "  Traceback (most recent call last):\n",
      "    File \"C:\\Users\\sachj\\Anaconda3\\lib\\site.py\", line 168, in addpackage\n",
      "      exec(line)\n",
      "    File \"<string>\", line 1, in <module>\n",
      "  ModuleNotFoundError: No module named 'pywin32_bootstrap'\n",
      "\n",
      "Remainder of file ignored\n"
     ]
    },
    {
     "name": "stdout",
     "output_type": "stream",
     "text": [
      "Collecting pyngrok\n",
      "  Downloading https://files.pythonhosted.org/packages/87/93/09a09c5034fcef7cc956107a36beb4ba47924afeb70bea3626a3a4b76b77/pyngrok-4.1.13.tar.gz\n",
      "Requirement already satisfied: future in c:\\users\\sachj\\anaconda3\\lib\\site-packages (from pyngrok) (0.17.1)\n",
      "Requirement already satisfied: PyYAML in c:\\users\\sachj\\anaconda3\\lib\\site-packages (from pyngrok) (5.1.1)\n",
      "Building wheels for collected packages: pyngrok\n",
      "  Building wheel for pyngrok (setup.py): started\n",
      "  Building wheel for pyngrok (setup.py): finished with status 'done'\n",
      "  Stored in directory: C:\\Users\\sachj\\AppData\\Local\\pip\\Cache\\wheels\\96\\02\\88\\faeae1a755924349309500c9a1d40d5d67df3dc4b4e0d2f5bd\n",
      "Successfully built pyngrok\n",
      "Installing collected packages: pyngrok\n",
      "Successfully installed pyngrok-4.1.13\n"
     ]
    },
    {
     "name": "stderr",
     "output_type": "stream",
     "text": [
      "Error processing line 7 of C:\\Users\\sachj\\Anaconda3\\lib\\site-packages\\pywin32.pth:\n",
      "\n",
      "  Traceback (most recent call last):\n",
      "    File \"C:\\Users\\sachj\\Anaconda3\\lib\\site.py\", line 168, in addpackage\n",
      "      exec(line)\n",
      "    File \"<string>\", line 1, in <module>\n",
      "  ModuleNotFoundError: No module named 'pywin32_bootstrap'\n",
      "\n",
      "Remainder of file ignored\n"
     ]
    },
    {
     "name": "stdout",
     "output_type": "stream",
     "text": [
      "Collecting glob\n"
     ]
    },
    {
     "name": "stderr",
     "output_type": "stream",
     "text": [
      "Error processing line 7 of C:\\Users\\sachj\\Anaconda3\\lib\\site-packages\\pywin32.pth:\n",
      "\n",
      "  Traceback (most recent call last):\n",
      "    File \"C:\\Users\\sachj\\Anaconda3\\lib\\site.py\", line 168, in addpackage\n",
      "      exec(line)\n",
      "    File \"<string>\", line 1, in <module>\n",
      "  ModuleNotFoundError: No module named 'pywin32_bootstrap'\n",
      "\n",
      "Remainder of file ignored\n",
      "  ERROR: Could not find a version that satisfies the requirement glob (from versions: none)\n",
      "ERROR: No matching distribution found for glob\n"
     ]
    },
    {
     "name": "stdout",
     "output_type": "stream",
     "text": [
      "Requirement already satisfied: jupyter-dash in c:\\users\\sachj\\anaconda3\\lib\\site-packages (0.3.1)\n",
      "Requirement already satisfied: ansi2html in c:\\users\\sachj\\anaconda3\\lib\\site-packages (from jupyter-dash) (1.5.2)\n",
      "Requirement already satisfied: flask in c:\\users\\sachj\\anaconda3\\lib\\site-packages (from jupyter-dash) (1.1.1)\n",
      "Requirement already satisfied: ipykernel in c:\\users\\sachj\\anaconda3\\lib\\site-packages (from jupyter-dash) (5.1.1)\n",
      "Requirement already satisfied: requests in c:\\users\\sachj\\anaconda3\\lib\\site-packages (from jupyter-dash) (2.22.0)\n",
      "Requirement already satisfied: retrying in c:\\users\\sachj\\anaconda3\\lib\\site-packages (from jupyter-dash) (1.3.3)\n",
      "Requirement already satisfied: dash in c:\\users\\sachj\\anaconda3\\lib\\site-packages (from jupyter-dash) (1.16.2)\n",
      "Requirement already satisfied: ipython in c:\\users\\sachj\\anaconda3\\lib\\site-packages (from jupyter-dash) (7.6.1)\n",
      "Requirement already satisfied: six in c:\\users\\sachj\\anaconda3\\lib\\site-packages (from ansi2html->jupyter-dash) (1.12.0)\n",
      "Requirement already satisfied: Jinja2>=2.10.1 in c:\\users\\sachj\\anaconda3\\lib\\site-packages (from flask->jupyter-dash) (2.10.1)\n",
      "Requirement already satisfied: click>=5.1 in c:\\users\\sachj\\anaconda3\\lib\\site-packages (from flask->jupyter-dash) (7.0)\n",
      "Requirement already satisfied: Werkzeug>=0.15 in c:\\users\\sachj\\anaconda3\\lib\\site-packages (from flask->jupyter-dash) (0.15.4)\n",
      "Requirement already satisfied: itsdangerous>=0.24 in c:\\users\\sachj\\anaconda3\\lib\\site-packages (from flask->jupyter-dash) (1.1.0)\n",
      "Requirement already satisfied: tornado>=4.2 in c:\\users\\sachj\\anaconda3\\lib\\site-packages (from ipykernel->jupyter-dash) (6.0.3)\n",
      "Requirement already satisfied: traitlets>=4.1.0 in c:\\users\\sachj\\anaconda3\\lib\\site-packages (from ipykernel->jupyter-dash) (4.3.2)\n",
      "Requirement already satisfied: jupyter-client in c:\\users\\sachj\\anaconda3\\lib\\site-packages (from ipykernel->jupyter-dash) (5.3.1)\n",
      "Requirement already satisfied: certifi>=2017.4.17 in c:\\users\\sachj\\anaconda3\\lib\\site-packages (from requests->jupyter-dash) (2019.6.16)\n",
      "Requirement already satisfied: chardet<3.1.0,>=3.0.2 in c:\\users\\sachj\\anaconda3\\lib\\site-packages (from requests->jupyter-dash) (3.0.4)\n",
      "Requirement already satisfied: urllib3!=1.25.0,!=1.25.1,<1.26,>=1.21.1 in c:\\users\\sachj\\anaconda3\\lib\\site-packages (from requests->jupyter-dash) (1.24.2)\n",
      "Requirement already satisfied: idna<2.9,>=2.5 in c:\\users\\sachj\\anaconda3\\lib\\site-packages (from requests->jupyter-dash) (2.8)\n",
      "Requirement already satisfied: plotly in c:\\users\\sachj\\anaconda3\\lib\\site-packages (from dash->jupyter-dash) (4.10.0)\n",
      "Requirement already satisfied: dash-html-components==1.1.1 in c:\\users\\sachj\\anaconda3\\lib\\site-packages (from dash->jupyter-dash) (1.1.1)\n",
      "Requirement already satisfied: flask-compress in c:\\users\\sachj\\anaconda3\\lib\\site-packages (from dash->jupyter-dash) (1.5.0)\n",
      "Requirement already satisfied: dash-core-components==1.12.1 in c:\\users\\sachj\\anaconda3\\lib\\site-packages (from dash->jupyter-dash) (1.12.1)\n",
      "Requirement already satisfied: future in c:\\users\\sachj\\anaconda3\\lib\\site-packages (from dash->jupyter-dash) (0.17.1)\n",
      "Requirement already satisfied: dash-renderer==1.8.2 in c:\\users\\sachj\\anaconda3\\lib\\site-packages (from dash->jupyter-dash) (1.8.2)\n",
      "Requirement already satisfied: dash-table==4.10.1 in c:\\users\\sachj\\anaconda3\\lib\\site-packages (from dash->jupyter-dash) (4.10.1)\n",
      "Requirement already satisfied: pygments in c:\\users\\sachj\\anaconda3\\lib\\site-packages (from ipython->jupyter-dash) (2.4.2)\n",
      "Requirement already satisfied: decorator in c:\\users\\sachj\\anaconda3\\lib\\site-packages (from ipython->jupyter-dash) (4.4.0)\n",
      "Requirement already satisfied: jedi>=0.10 in c:\\users\\sachj\\anaconda3\\lib\\site-packages (from ipython->jupyter-dash) (0.13.3)\n",
      "Requirement already satisfied: prompt-toolkit<2.1.0,>=2.0.0 in c:\\users\\sachj\\anaconda3\\lib\\site-packages (from ipython->jupyter-dash) (2.0.9)\n",
      "Requirement already satisfied: pickleshare in c:\\users\\sachj\\anaconda3\\lib\\site-packages (from ipython->jupyter-dash) (0.7.5)\n",
      "Requirement already satisfied: setuptools>=18.5 in c:\\users\\sachj\\anaconda3\\lib\\site-packages (from ipython->jupyter-dash) (41.0.1)\n",
      "Requirement already satisfied: backcall in c:\\users\\sachj\\anaconda3\\lib\\site-packages (from ipython->jupyter-dash) (0.1.0)\n",
      "Requirement already satisfied: colorama; sys_platform == \"win32\" in c:\\users\\sachj\\anaconda3\\lib\\site-packages (from ipython->jupyter-dash) (0.4.1)\n",
      "Requirement already satisfied: MarkupSafe>=0.23 in c:\\users\\sachj\\anaconda3\\lib\\site-packages (from Jinja2>=2.10.1->flask->jupyter-dash) (1.1.1)\n",
      "Requirement already satisfied: ipython-genutils in c:\\users\\sachj\\anaconda3\\lib\\site-packages (from traitlets>=4.1.0->ipykernel->jupyter-dash) (0.2.0)\n",
      "Requirement already satisfied: python-dateutil>=2.1 in c:\\users\\sachj\\anaconda3\\lib\\site-packages (from jupyter-client->ipykernel->jupyter-dash) (2.8.0)\n",
      "Requirement already satisfied: jupyter-core in c:\\users\\sachj\\anaconda3\\lib\\site-packages (from jupyter-client->ipykernel->jupyter-dash) (4.5.0)\n",
      "Requirement already satisfied: pyzmq>=13 in c:\\users\\sachj\\anaconda3\\lib\\site-packages (from jupyter-client->ipykernel->jupyter-dash) (18.0.0)\n",
      "Requirement already satisfied: brotli in c:\\users\\sachj\\anaconda3\\lib\\site-packages (from flask-compress->dash->jupyter-dash) (1.0.9)\n",
      "Requirement already satisfied: parso>=0.3.0 in c:\\users\\sachj\\anaconda3\\lib\\site-packages (from jedi>=0.10->ipython->jupyter-dash) (0.5.0)\n",
      "Requirement already satisfied: wcwidth in c:\\users\\sachj\\anaconda3\\lib\\site-packages (from prompt-toolkit<2.1.0,>=2.0.0->ipython->jupyter-dash) (0.1.7)\n"
     ]
    },
    {
     "name": "stderr",
     "output_type": "stream",
     "text": [
      "Error processing line 7 of C:\\Users\\sachj\\Anaconda3\\lib\\site-packages\\pywin32.pth:\n",
      "\n",
      "  Traceback (most recent call last):\n",
      "    File \"C:\\Users\\sachj\\Anaconda3\\lib\\site.py\", line 168, in addpackage\n",
      "      exec(line)\n",
      "    File \"<string>\", line 1, in <module>\n",
      "  ModuleNotFoundError: No module named 'pywin32_bootstrap'\n",
      "\n",
      "Remainder of file ignored\n",
      "'sudo' is not recognized as an internal or external command,\n",
      "operable program or batch file.\n"
     ]
    }
   ],
   "source": [
    "#INSTALL IMPORTANT MODULES\n",
    "!pip install -q opencv-python\n",
    "!pip install -q git+https://github.com/tensorflow/docs\n",
    "!pip install pyngrok\n",
    "!pip install glob\n",
    "!pip install jupyter-dash\n",
    "!sudo -H pip install --upgrade youtube-dl\n"
   ]
  },
  {
   "cell_type": "code",
   "execution_count": 1,
   "metadata": {},
   "outputs": [
    {
     "name": "stderr",
     "output_type": "stream",
     "text": [
      "C:\\Users\\sachj\\Anaconda3\\lib\\site-packages\\tensorflow\\python\\framework\\dtypes.py:516: FutureWarning: Passing (type, 1) or '1type' as a synonym of type is deprecated; in a future version of numpy, it will be understood as (type, (1,)) / '(1,)type'.\n",
      "  _np_qint8 = np.dtype([(\"qint8\", np.int8, 1)])\n",
      "C:\\Users\\sachj\\Anaconda3\\lib\\site-packages\\tensorflow\\python\\framework\\dtypes.py:517: FutureWarning: Passing (type, 1) or '1type' as a synonym of type is deprecated; in a future version of numpy, it will be understood as (type, (1,)) / '(1,)type'.\n",
      "  _np_quint8 = np.dtype([(\"quint8\", np.uint8, 1)])\n",
      "C:\\Users\\sachj\\Anaconda3\\lib\\site-packages\\tensorflow\\python\\framework\\dtypes.py:518: FutureWarning: Passing (type, 1) or '1type' as a synonym of type is deprecated; in a future version of numpy, it will be understood as (type, (1,)) / '(1,)type'.\n",
      "  _np_qint16 = np.dtype([(\"qint16\", np.int16, 1)])\n",
      "C:\\Users\\sachj\\Anaconda3\\lib\\site-packages\\tensorflow\\python\\framework\\dtypes.py:519: FutureWarning: Passing (type, 1) or '1type' as a synonym of type is deprecated; in a future version of numpy, it will be understood as (type, (1,)) / '(1,)type'.\n",
      "  _np_quint16 = np.dtype([(\"quint16\", np.uint16, 1)])\n",
      "C:\\Users\\sachj\\Anaconda3\\lib\\site-packages\\tensorflow\\python\\framework\\dtypes.py:520: FutureWarning: Passing (type, 1) or '1type' as a synonym of type is deprecated; in a future version of numpy, it will be understood as (type, (1,)) / '(1,)type'.\n",
      "  _np_qint32 = np.dtype([(\"qint32\", np.int32, 1)])\n",
      "C:\\Users\\sachj\\Anaconda3\\lib\\site-packages\\tensorflow\\python\\framework\\dtypes.py:525: FutureWarning: Passing (type, 1) or '1type' as a synonym of type is deprecated; in a future version of numpy, it will be understood as (type, (1,)) / '(1,)type'.\n",
      "  np_resource = np.dtype([(\"resource\", np.ubyte, 1)])\n",
      "C:\\Users\\sachj\\Anaconda3\\lib\\site-packages\\tensorboard\\compat\\tensorflow_stub\\dtypes.py:541: FutureWarning: Passing (type, 1) or '1type' as a synonym of type is deprecated; in a future version of numpy, it will be understood as (type, (1,)) / '(1,)type'.\n",
      "  _np_qint8 = np.dtype([(\"qint8\", np.int8, 1)])\n",
      "C:\\Users\\sachj\\Anaconda3\\lib\\site-packages\\tensorboard\\compat\\tensorflow_stub\\dtypes.py:542: FutureWarning: Passing (type, 1) or '1type' as a synonym of type is deprecated; in a future version of numpy, it will be understood as (type, (1,)) / '(1,)type'.\n",
      "  _np_quint8 = np.dtype([(\"quint8\", np.uint8, 1)])\n",
      "C:\\Users\\sachj\\Anaconda3\\lib\\site-packages\\tensorboard\\compat\\tensorflow_stub\\dtypes.py:543: FutureWarning: Passing (type, 1) or '1type' as a synonym of type is deprecated; in a future version of numpy, it will be understood as (type, (1,)) / '(1,)type'.\n",
      "  _np_qint16 = np.dtype([(\"qint16\", np.int16, 1)])\n",
      "C:\\Users\\sachj\\Anaconda3\\lib\\site-packages\\tensorboard\\compat\\tensorflow_stub\\dtypes.py:544: FutureWarning: Passing (type, 1) or '1type' as a synonym of type is deprecated; in a future version of numpy, it will be understood as (type, (1,)) / '(1,)type'.\n",
      "  _np_quint16 = np.dtype([(\"quint16\", np.uint16, 1)])\n",
      "C:\\Users\\sachj\\Anaconda3\\lib\\site-packages\\tensorboard\\compat\\tensorflow_stub\\dtypes.py:545: FutureWarning: Passing (type, 1) or '1type' as a synonym of type is deprecated; in a future version of numpy, it will be understood as (type, (1,)) / '(1,)type'.\n",
      "  _np_qint32 = np.dtype([(\"qint32\", np.int32, 1)])\n",
      "C:\\Users\\sachj\\Anaconda3\\lib\\site-packages\\tensorboard\\compat\\tensorflow_stub\\dtypes.py:550: FutureWarning: Passing (type, 1) or '1type' as a synonym of type is deprecated; in a future version of numpy, it will be understood as (type, (1,)) / '(1,)type'.\n",
      "  np_resource = np.dtype([(\"resource\", np.ubyte, 1)])\n"
     ]
    }
   ],
   "source": [
    "from __future__ import unicode_literals\n",
    "import os\n",
    "import glob\n",
    "import json\n",
    "import scipy\n",
    "import tensorflow_hub as hub\n",
    "from scipy import spatial\n",
    "from absl import logging\n",
    "import tensorflow as tf\n",
    "from tensorflow_docs.vis import embed\n",
    "import random\n",
    "import re\n",
    "import os\n",
    "import tempfile\n",
    "import ssl\n",
    "import cv2\n",
    "import numpy as np\n",
    "from urllib import request  # requires python3\n",
    "import youtube_dl\n",
    "import urllib.request\n",
    "tf.enable_eager_execution()"
   ]
  },
  {
   "cell_type": "code",
   "execution_count": 2,
   "metadata": {},
   "outputs": [],
   "source": [
    "#load training data details from JSON (MSR-VTT-10K dataset)\n",
    "with open('train_val_videodatainfo.json') as f:\n",
    "          data = json.load(f)"
   ]
  },
  {
   "cell_type": "code",
   "execution_count": 3,
   "metadata": {},
   "outputs": [],
   "source": [
    "#load pre-computed feature matrices of videos and text from MSR-VTT-10K training dataset\n",
    "X1 = np.load('feature_matrices/X1.npy')\n",
    "X2 = np.load('feature_matrices/X2.npy')\n",
    "\n",
    "#load projection matrices learned from CMFH optimization problem \n",
    "P1 = np.load('projection_matrices/P1.npy')\n",
    "P2 = np.load('projection_matrices/P2.npy')\n",
    "\n",
    "mu1 = np.mean(X1[:,:],axis=1)\n",
    "mu2 = np.mean(X2[:,:],axis=1)\n",
    "\n",
    "mu1 = mu1.reshape(400,1)\n",
    "mu2 = mu2.reshape(512,1)\n",
    "\n",
    "#Mean normalization of feature matrices of video(X1) and text (X2)\n",
    "X1_c = (X1 - mu1) #/std1\n",
    "X2_c = (X2 - mu2) #/std2\n",
    "\n",
    "# Compute common embeddings for all videos and text in the training set\n",
    "r1 = P1.dot(X1_c)\n",
    "r2 = P2.dot(X2_c)"
   ]
  },
  {
   "cell_type": "code",
   "execution_count": 4,
   "metadata": {},
   "outputs": [
    {
     "name": "stdout",
     "output_type": "stream",
     "text": [
      "(48, 400)\n",
      "(400, 140200)\n",
      "(48, 512)\n",
      "(512, 140200)\n"
     ]
    }
   ],
   "source": [
    "#print shapes of feature and projection matrices\n",
    "print(P1.shape)\n",
    "print(X1.shape)\n",
    "print(P2.shape)\n",
    "print(X2.shape)"
   ]
  },
  {
   "cell_type": "code",
   "execution_count": 5,
   "metadata": {},
   "outputs": [
    {
     "name": "stdout",
     "output_type": "stream",
     "text": [
      "module https://tfhub.dev/google/universal-sentence-encoder/4 loaded\n"
     ]
    }
   ],
   "source": [
    "#load the Universal Sentence Encoder (USE) module\n",
    "module_url = \"https://tfhub.dev/google/universal-sentence-encoder/4\" #@param [\"https://tfhub.dev/google/universal-sentence-encoder/4\", \"https://tfhub.dev/google/universal-sentence-encoder-large/5\"]\n",
    "use_model = hub.load(module_url)\n",
    "print (\"module %s loaded\" % module_url)\n",
    "\n",
    "def embed1(input):\n",
    "      #print(type(input))\n",
    "      return use_model(input)\n",
    "\n",
    "def semantic_sim(a,b):\n",
    "    u=embed1(a).numpy()\n",
    "    v=embed1(b).numpy()\n",
    "    dist = spatial.distance.cosine(u, v)\n",
    "    return 1-dist"
   ]
  },
  {
   "cell_type": "code",
   "execution_count": 14,
   "metadata": {},
   "outputs": [
    {
     "name": "stdout",
     "output_type": "stream",
     "text": [
      "(48, 7010)\n"
     ]
    }
   ],
   "source": [
    "# get feature matrix of unique videos in the MSR-VTT-10K dataset\n",
    "r3 = np.array([r1[:,i] for i in range(0,r1.shape[1],20)]).T\n",
    "print(r3.shape)\n",
    "\n",
    "# Utilities to open video files using CV2\n",
    "def crop_center_square(frame):\n",
    "  y, x = frame.shape[0:2]\n",
    "  min_dim = min(y, x)\n",
    "  start_x = (x // 2) - (min_dim // 2)\n",
    "  start_y = (y // 2) - (min_dim // 2)\n",
    "  return frame[start_y:start_y+min_dim,start_x:start_x+min_dim]\n",
    "\n",
    "def load_video(path, max_frames=0, resize=(224, 224)):\n",
    "  cap = cv2.VideoCapture(path)\n",
    "  frames = []\n",
    "  try:\n",
    "    while True:\n",
    "      ret, frame = cap.read()\n",
    "      if not ret:\n",
    "        break\n",
    "      frame = crop_center_square(frame)\n",
    "      frame = cv2.resize(frame, resize)\n",
    "      frame = frame[:, :, [2, 1, 0]]\n",
    "      frames.append(frame)\n",
    "      \n",
    "      if len(frames) == max_frames:\n",
    "        break\n",
    "  finally:\n",
    "    cap.release()\n",
    "  return np.array(frames) / 255.0\n",
    "\n"
   ]
  },
  {
   "cell_type": "code",
   "execution_count": 15,
   "metadata": {},
   "outputs": [],
   "source": [
    "#load i3d model\n",
    "i3d = hub.load(\"https://tfhub.dev/deepmind/i3d-kinetics-400/1\").signatures['default']"
   ]
  },
  {
   "cell_type": "code",
   "execution_count": 16,
   "metadata": {},
   "outputs": [],
   "source": [
    "# function to get I3D embeddings for videos\n",
    "def predict(sample_video):\n",
    "  # Add a batch axis to the to the sample video.\n",
    "  model_input = tf.constant(sample_video, dtype=tf.float32)[tf.newaxis, ...]\n",
    "  logits = i3d(model_input)['default'][0]\n",
    "  probabilities = tf.nn.softmax(logits)\n",
    "  return np.array([probabilities]).T"
   ]
  },
  {
   "cell_type": "code",
   "execution_count": 34,
   "metadata": {},
   "outputs": [
    {
     "name": "stdout",
     "output_type": "stream",
     "text": [
      "[youtube] A30iGQimXnc: Downloading webpage\n",
      "[youtube] A30iGQimXnc: Downloading MPD manifest\n",
      "[download] videos\\A30iGQimXnc.mp4 has already been downloaded\n",
      "[download] 100% of 4.65MiB\n",
      "downloaded!\n"
     ]
    }
   ],
   "source": [
    "def video2text(y_id):\n",
    "    '''Returns predicted texts on given youtube video\n",
    "\n",
    "    Args:\n",
    "        y_id (str): YouTube video ID    \n",
    "    ''' \n",
    "    # New embeddings\n",
    "    global r1,r2,P1,mu1,data\n",
    "\n",
    "    video_path = glob.glob(\"videos/\" + y_id + \"*\")[0]\n",
    "    video = load_video(video_path)\n",
    "    feat = predict(video)\n",
    "    feat_c = (feat - mu1) #/std1\n",
    "    emb = P1.dot(feat_c) \n",
    "    cos_sims = np.array([spatial.distance.cosine(emb,r2[:,j]) for j in range(r2.shape[1])])\n",
    "    match = np.argsort(cos_sims)[:10]\n",
    "    pred_texts = [data['sentences'][m]['caption'] for m in match]\n",
    "    return ([data['sentences'][m]['caption'] for m in match])\n"
   ]
  },
  {
   "cell_type": "code",
   "execution_count": 23,
   "metadata": {},
   "outputs": [],
   "source": [
    "def text2video(text):\n",
    "    '''Returns predicted video for given text\n",
    "\n",
    "    Args:\n",
    "        text (str): input text    \n",
    "    ''' \n",
    "    # New embeddings\n",
    "    global data,P1,P2,X1_c,X2_c,mu2,r3\n",
    "\n",
    "    print(type(embed1([text])))\n",
    "    feat = embed1([text]).numpy().T\n",
    "    feat_c = (feat - mu2) #/std1\n",
    "    emb = P2.dot(feat_c) \n",
    "    cos_sims = np.array([spatial.distance.cosine(emb,r3[:,j]) for j in range(r3.shape[1])])\n",
    "    match = np.argsort(cos_sims)[:10]\n",
    "    inds = [int(data['sentences'][m*20]['video_id'].replace('video','')) for m in match]\n",
    "    pred_videos = [data['videos'][ind]['url'] for ind in inds]\n",
    "    return pred_videos, \"Start times in order:{}\".format([data['videos'][ind]['start time'] for ind in inds])"
   ]
  },
  {
   "cell_type": "code",
   "execution_count": 28,
   "metadata": {},
   "outputs": [],
   "source": [
    "# A simple webapp to showcase video-text and text-video retrieval\n",
    "import plotly.express as px\n",
    "from jupyter_dash import JupyterDash\n",
    "import dash_core_components as dcc\n",
    "import dash_html_components as html\n",
    "from dash.dependencies import Input, Output, State# Load Data\n",
    "df = px.data.tips()# Build App\n",
    "#app = JupyterDash(__name__)\n",
    "\n",
    "external_stylesheets = ['https://codepen.io/chriddyp/pen/bWLwgP.css']\n",
    "\n",
    "app = JupyterDash(__name__, external_stylesheets=external_stylesheets)\n",
    "\n",
    "app.layout = html.Div([\n",
    "    html.H6(\"Enter YouTube ID to get its predicted text using CMFH!\"),\n",
    "\n",
    "    html.Br(),\n",
    "    html.Div([\n",
    "                dcc.Input(id=\"loading-input-1\",placeholder = 'YouTube ID'),\n",
    "                html.Button(id='submit-button-state', n_clicks=0, children='Submit'),\n",
    "\n",
    "                dcc.Loading(\n",
    "                    id=\"loading-2\",\n",
    "                    children=[html.Div([html.Div(id=\"loading-output-1\")])],\n",
    "                    type=\"circle\",\n",
    "                )\n",
    "                \n",
    "                \n",
    "            ]),\n",
    "\n",
    "    html.Br(),\n",
    "    html.Br(),\n",
    "    html.Br(),\n",
    "    html.Br(),\n",
    "\n",
    "    html.H6(\"Enter text to get its predicted video url (YouTube) using CMFH!\"),\n",
    "\n",
    "    html.Br(),\n",
    "    html.Div([\n",
    "                dcc.Input(id=\"loading-input-2\",placeholder = 'Text'),\n",
    "                html.Button(id='submit-button-state1', n_clicks=0, children='Submit'),\n",
    "\n",
    "                dcc.Loading(\n",
    "                    id=\"loading-3\",\n",
    "                    children=[html.Div([html.Div(id=\"loading-output-2\")])],\n",
    "                    type=\"circle\",\n",
    "                )\n",
    "                \n",
    "                \n",
    "            ]),\n",
    "\n",
    "])\n",
    "\n",
    "\n",
    "@app.callback(Output('loading-output-1', 'children'),\n",
    "              [Input('submit-button-state', 'n_clicks')],\n",
    "              [State('loading-input-1', 'value')])\n",
    "\n",
    "def update_output_div1(n_clicks,input_y_id):\n",
    "    url = 'https://www.youtube.com/watch?v='+ input_y_id\n",
    "    ydl_opts = {'outtmpl': 'videos/'+ input_y_id +'.mp4',format: 'mp4'}\n",
    "    with youtube_dl.YoutubeDL(ydl_opts) as ydl:\n",
    "        ydl.download([url])\n",
    "    print(\"downloaded!\")\n",
    "    return str(video2text(input_y_id))\n",
    "\n",
    "    \n",
    "@app.callback(Output('loading-output-2', 'children'),\n",
    "              [Input('submit-button-state1', 'n_clicks')],\n",
    "              [State('loading-input-2', 'value')])\n",
    "\n",
    "def update_output_div2(nclicks, input_txt):\n",
    "    \n",
    "      return str(text2video(input_txt))\n",
    "\n"
   ]
  },
  {
   "cell_type": "code",
   "execution_count": 29,
   "metadata": {},
   "outputs": [
    {
     "name": "stdout",
     "output_type": "stream",
     "text": [
      "Dash app running on http://127.0.0.1:8050/\n",
      "[youtube] A30iGQimXnc: Downloading webpage\n",
      "[youtube] A30iGQimXnc: Downloading MPD manifest\n",
      "[download] Destination: videos\\A30iGQimXnc.mp4\n",
      "[download] 100% of 4.65MiB in 00:01                  \n",
      "downloaded!\n"
     ]
    }
   ],
   "source": [
    "app.run_server(mode='external')"
   ]
  },
  {
   "cell_type": "code",
   "execution_count": 24,
   "metadata": {},
   "outputs": [
    {
     "name": "stdout",
     "output_type": "stream",
     "text": [
      "<class 'tensorflow.python.framework.ops.EagerTensor'>\n"
     ]
    },
    {
     "data": {
      "text/plain": [
       "(['https://www.youtube.com/watch?v=YgmF8as2mFY',\n",
       "  'https://www.youtube.com/watch?v=-epwvfvWAVI',\n",
       "  'https://www.youtube.com/watch?v=xnWKz7Cthkk',\n",
       "  'https://www.youtube.com/watch?v=29ZA7Ag4d_U',\n",
       "  'https://www.youtube.com/watch?v=K49YyA-LmTc',\n",
       "  'https://www.youtube.com/watch?v=vE_WqdKbTvY',\n",
       "  'https://www.youtube.com/watch?v=xOH24qm8JMg',\n",
       "  'https://www.youtube.com/watch?v=0VTVkaamLmU',\n",
       "  'https://www.youtube.com/watch?v=BXfJYPsODNU',\n",
       "  'https://www.youtube.com/watch?v=2aAsvFdf27o'],\n",
       " 'Start times in order:[25.05, 716.01, 89.85, 366.91, 0.0, 91.45, 28.08, 56.97, 59.88, 4.41]')"
      ]
     },
     "execution_count": 24,
     "metadata": {},
     "output_type": "execute_result"
    }
   ],
   "source": [
    "text2video(\"seems there is a road accident\")"
   ]
  },
  {
   "cell_type": "code",
   "execution_count": 33,
   "metadata": {},
   "outputs": [
    {
     "ename": "IndexError",
     "evalue": "list index out of range",
     "output_type": "error",
     "traceback": [
      "\u001b[1;31m---------------------------------------------------------------------------\u001b[0m",
      "\u001b[1;31mIndexError\u001b[0m                                Traceback (most recent call last)",
      "\u001b[1;32m<ipython-input-33-bdeba7399804>\u001b[0m in \u001b[0;36m<module>\u001b[1;34m\u001b[0m\n\u001b[1;32m----> 1\u001b[1;33m \u001b[0mvideo2text\u001b[0m\u001b[1;33m(\u001b[0m\u001b[1;34m'A30iGQimXnc'\u001b[0m\u001b[1;33m)\u001b[0m\u001b[1;33m\u001b[0m\u001b[1;33m\u001b[0m\u001b[0m\n\u001b[0m",
      "\u001b[1;32m<ipython-input-26-d666b8b0ef29>\u001b[0m in \u001b[0;36mvideo2text\u001b[1;34m(y_id)\u001b[0m\n\u001b[0;32m      8\u001b[0m     \u001b[1;32mglobal\u001b[0m \u001b[0mr1\u001b[0m\u001b[1;33m,\u001b[0m\u001b[0mr2\u001b[0m\u001b[1;33m,\u001b[0m\u001b[0mP1\u001b[0m\u001b[1;33m,\u001b[0m\u001b[0mmu1\u001b[0m\u001b[1;33m,\u001b[0m\u001b[0mdata\u001b[0m\u001b[1;33m\u001b[0m\u001b[1;33m\u001b[0m\u001b[0m\n\u001b[0;32m      9\u001b[0m \u001b[1;33m\u001b[0m\u001b[0m\n\u001b[1;32m---> 10\u001b[1;33m     \u001b[0mvideo_path\u001b[0m \u001b[1;33m=\u001b[0m \u001b[0mglob\u001b[0m\u001b[1;33m.\u001b[0m\u001b[0mglob\u001b[0m\u001b[1;33m(\u001b[0m\u001b[1;34m\"/videos/\"\u001b[0m \u001b[1;33m+\u001b[0m \u001b[0my_id\u001b[0m \u001b[1;33m+\u001b[0m \u001b[1;34m\"*\"\u001b[0m\u001b[1;33m)\u001b[0m\u001b[1;33m[\u001b[0m\u001b[1;36m0\u001b[0m\u001b[1;33m]\u001b[0m\u001b[1;33m\u001b[0m\u001b[1;33m\u001b[0m\u001b[0m\n\u001b[0m\u001b[0;32m     11\u001b[0m     \u001b[0mvideo\u001b[0m \u001b[1;33m=\u001b[0m \u001b[0mload_video\u001b[0m\u001b[1;33m(\u001b[0m\u001b[0mvideo_path\u001b[0m\u001b[1;33m)\u001b[0m\u001b[1;33m\u001b[0m\u001b[1;33m\u001b[0m\u001b[0m\n\u001b[0;32m     12\u001b[0m     \u001b[0mfeat\u001b[0m \u001b[1;33m=\u001b[0m \u001b[0mpredict\u001b[0m\u001b[1;33m(\u001b[0m\u001b[0mvideo\u001b[0m\u001b[1;33m)\u001b[0m\u001b[1;33m\u001b[0m\u001b[1;33m\u001b[0m\u001b[0m\n",
      "\u001b[1;31mIndexError\u001b[0m: list index out of range"
     ]
    }
   ],
   "source": [
    "video2text('A30iGQimXnc')"
   ]
  },
  {
   "cell_type": "code",
   "execution_count": 32,
   "metadata": {},
   "outputs": [
    {
     "data": {
      "text/plain": [
       "['videos/A30iGQimXnc.mp4']"
      ]
     },
     "execution_count": 32,
     "metadata": {},
     "output_type": "execute_result"
    }
   ],
   "source": [
    "glob.glob('videos/A30iGQimXnc.mp4')"
   ]
  },
  {
   "cell_type": "code",
   "execution_count": null,
   "metadata": {},
   "outputs": [],
   "source": []
  }
 ],
 "metadata": {
  "kernelspec": {
   "display_name": "Python 3",
   "language": "python",
   "name": "python3"
  },
  "language_info": {
   "codemirror_mode": {
    "name": "ipython",
    "version": 3
   },
   "file_extension": ".py",
   "mimetype": "text/x-python",
   "name": "python",
   "nbconvert_exporter": "python",
   "pygments_lexer": "ipython3",
   "version": "3.7.3"
  }
 },
 "nbformat": 4,
 "nbformat_minor": 2
}
